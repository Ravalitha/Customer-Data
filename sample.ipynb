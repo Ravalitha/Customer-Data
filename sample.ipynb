{
 "cells": [
  {
   "cell_type": "code",
   "execution_count": 49,
   "metadata": {
    "scrolled": false
   },
   "outputs": [
    {
     "name": "stdout",
     "output_type": "stream",
     "text": [
      "<class 'pandas.core.frame.DataFrame'>\n",
      "RangeIndex: 168 entries, 0 to 167\n",
      "Columns: 188 entries, fraudulent to transactions/14/transactionFailed\n",
      "dtypes: bool(1), float64(23), object(164)\n",
      "memory usage: 245.7+ KB\n"
     ]
    },
    {
     "data": {
      "image/png": "[encoded data removed]",
      "text/plain": [
       "<Figure size 432x288 with 1 Axes>"
      ]
     },
     "metadata": {
      "needs_background": "light"
     },
     "output_type": "display_data"
    }
   ],
   "source": [
    "import pandas as pd\n",
    "import numpy as np\n",
    "smp_df=pd.read_csv(r'C:\\Users\\dell\\Downloads\\convertcsv.csv')\n",
    "smp_df.head\n",
    "smp_df.info()\n",
    "smp_df.describe()\n",
    "smp_df.isnull().sum()\n",
    "median=smp_df['transactions/14/transactionFailed'].median()\n",
    "smp_df['transactions/14/transactionFailed'].fillna(median,inplace=True)\n",
    "median=smp_df['transactions/14/transactionAmount'].median()\n",
    "smp_df['transactions/14/transactionAmount'].fillna(median,inplace=True)\n",
    "median=smp_df['transactions/13/transactionFailed'].median()\n",
    "smp_df['transactions/13/transactionFailed'].fillna(median,inplace=True)\n",
    "median=smp_df['transactions/12/transactionFailed'].median()\n",
    "smp_df['transactions/12/transactionFailed'].fillna(median,inplace=True)\n",
    "median=smp_df['transactions/11/transactionFailed'].median()\n",
    "smp_df['transactions/11/transactionFailed'].fillna(median,inplace=True)\n",
    "median=smp_df['transactions/10/transactionFailed'].median()\n",
    "smp_df['transactions/10/transactionFailed'].fillna(median,inplace=True)\n",
    "median=smp_df['transactions/9/transactionFailed'].median()\n",
    "smp_df['transactions/9/transactionFailed'].fillna(median,inplace=True)\n",
    "median=smp_df['transactions/13/transactionAmount'].median()\n",
    "smp_df['transactions/13/transactionAmount'].fillna(median,inplace=True)\n",
    "median=smp_df['transactions/12/transactionAmount'].median()\n",
    "smp_df['transactions/12/transactionAmount'].fillna(median,inplace=True)\n",
    "median=smp_df['transactions/11/transactionAmount'].median()\n",
    "smp_df['transactions/11/transactionAmount'].fillna(median,inplace=True)\n",
    "median=smp_df['transactions/10/transactionAmount'].median()\n",
    "smp_df['transactions/10/transactionAmount'].fillna(median,inplace=True)\n",
    "median=smp_df['transactions/9/transactionAmount'].median()\n",
    "smp_df['transactions/9/transactionAmount'].fillna(median,inplace=True)\n",
    "median=smp_df['transactions/1/transactionAmount'].median()\n",
    "smp_df['transactions/1/transactionAmount'].fillna(median,inplace=True)\n",
    "median=smp_df['transactions/1/transactionFailed'].median()\n",
    "smp_df['transactions/1/transactionFailed'].fillna(median,inplace=True)\n",
    "median=smp_df['transactions/0/transactionFailed'].median()\n",
    "smp_df['transactions/0/transactionFailed'].fillna(median,inplace=True)\n",
    "\n",
    "median=smp_df['transactions/0/transactionAmount'].median()\n",
    "smp_df['transactions/0/transactionAmount'].fillna(median,inplace=True)\n",
    "median=smp_df['paymentMethods/0/paymentMethodRegistrationFailure'].median()\n",
    "smp_df['paymentMethods/0/paymentMethodRegistrationFailure'].fillna(median,inplace=True)\n",
    "median=smp_df['orders/0/orderAmount'].median()\n",
    "smp_df['orders/0/orderAmount'].fillna(median,inplace=True)\n",
    "median=smp_df['orders/1/orderAmount'].median()\n",
    "smp_df['orders/1/orderAmount'].fillna(median,inplace=True)\n",
    "smp_df.isnull().sum()\n",
    "smp_df\n",
    "\n",
    "from sklearn import preprocessing  \n",
    "label_encoder = preprocessing.LabelEncoder()   \n",
    "smp_df['fraudulent']= label_encoder.fit_transform(smp_df['fraudulent']) \n",
    "  \n",
    "smp_df['fraudulent'].unique() \n",
    "smp_df['orders/0/orderState'].unique()\n",
    "smp_df['orders/0/orderState'].fillna(method='bfill')\n",
    "smp_df['orders/0/orderState'].dropna()\n",
    "smp_df['orders/0/orderState'].map({'pending':0,'fulfilled':1,'failed':2})\n",
    "smp_df.corr()\n",
    "smp_df.drop(columns=['transactions/13/transactionAmount'])\n",
    "smp_df.drop(columns=['transactions/14/transactionAmount'])\n",
    "smp_df.drop(columns=['transactions/13/transactionId'])\n",
    "smp_df.drop(columns=['transactions/13/paymentMethodId'])\n",
    "smp_df.drop(columns=['transactions/14/paymentMethodId'])\n",
    "smp_df.drop(columns=['transactions/14/transactionId'])\n",
    "\n",
    "import matplotlib.pyplot as plt\n",
    "plt.scatter('transaction/14/transactionAmount','fraudulent')\n",
    "plt.show()\n",
    "\n",
    "from sklearn.model_selection import train_test_split\n",
    "\n",
    "y=smp_df['fraudulent']\n",
    "smp_df.drop(columns='fraudulent',inplace=True)\n",
    "x_train,x_test,y_train,y_test=train_test_split(smp_df,y,test_size=0.3,random_state=190)\n",
    "x_train\n",
    "y_train\n",
    "\n",
    "from sklearn.linear_model import LogisticRegression\n",
    "lg=LogisticRegression()\n",
    "\n",
    "\n",
    "\n",
    "\n",
    "\n",
    "\n",
    "\n",
    "\n",
    "\n",
    "\n",
    "\n",
    "\n",
    "\n",
    "\n"
   ]
  }
 ],
 "metadata": {
  "kernelspec": {
   "display_name": "Python 3",
   "language": "python",
   "name": "python3"
  },
  "language_info": {
   "codemirror_mode": {
    "name": "ipython",
    "version": 3
   },
   "file_extension": ".py",
   "mimetype": "text/x-python",
   "name": "python",
   "nbconvert_exporter": "python",
   "pygments_lexer": "ipython3",
   "version": "3.7.3"
  }
 },
 "nbformat": 4,
 "nbformat_minor": 2
}
